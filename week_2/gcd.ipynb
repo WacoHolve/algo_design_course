{
 "cells": [
  {
   "cell_type": "code",
   "execution_count": 1,
   "metadata": {},
   "outputs": [
    {
     "data": {
      "text/plain": [
       "61232"
      ]
     },
     "execution_count": 1,
     "metadata": {},
     "output_type": "execute_result"
    }
   ],
   "source": [
    "def euclid_gcd(a: int, b: int) -> int:\n",
    "    if b == 0:\n",
    "        return a\n",
    "    \n",
    "    a_prime = a % b\n",
    "\n",
    "    return euclid_gcd(b, a_prime)\n",
    "\n",
    "euclid_gcd(a=3918848, b=1653264)"
   ]
  }
 ],
 "metadata": {
  "kernelspec": {
   "display_name": "Python 3.10.13 ('venv': venv)",
   "language": "python",
   "name": "python3"
  },
  "language_info": {
   "codemirror_mode": {
    "name": "ipython",
    "version": 3
   },
   "file_extension": ".py",
   "mimetype": "text/x-python",
   "name": "python",
   "nbconvert_exporter": "python",
   "pygments_lexer": "ipython3",
   "version": "3.10.13"
  },
  "orig_nbformat": 4,
  "vscode": {
   "interpreter": {
    "hash": "0c7c77a678a1a6c36ad4fcdf19bff87b17c0a05fd05660920d3600f697a114eb"
   }
  }
 },
 "nbformat": 4,
 "nbformat_minor": 2
}
