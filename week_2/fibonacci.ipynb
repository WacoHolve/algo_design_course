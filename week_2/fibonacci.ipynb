{
 "cells": [
  {
   "cell_type": "code",
   "execution_count": 45,
   "metadata": {},
   "outputs": [
    {
     "data": {
      "text/plain": [
       "6"
      ]
     },
     "execution_count": 45,
     "metadata": {},
     "output_type": "execute_result"
    }
   ],
   "source": [
    "def calculate_fib(fib_num: int) -> int:\n",
    "    # Set first 2 fibonacci numbers\n",
    "    prev_calc = [0, 1]\n",
    "\n",
    "    if fib_num < 2:\n",
    "        return prev_calc[fib_num]\n",
    "    \n",
    "    for i in range(2, fib_num + 1):\n",
    "        first_val = prev_calc[i-1]\n",
    "        second_val = prev_calc[i-2]\n",
    "        new_val = first_val + second_val\n",
    "        prev_calc.append(new_val)\n",
    "    \n",
    "    return new_val\n",
    "\n",
    "def calculate_fib_last_digit(fib_num: int) -> int:\n",
    "    # Set first 2 fibonacci numbers\n",
    "    prev_calc = [0, 1]\n",
    "\n",
    "    if fib_num < 2:\n",
    "        return prev_calc[fib_num]\n",
    "    \n",
    "    previous = 0\n",
    "    current = 1\n",
    "    for _ in range(fib_num - 1):\n",
    "        previous, current = current, (previous + current) % 10\n",
    "    \n",
    "    return current % 10\n",
    "\n",
    "calculate_fib_last_digit(999999)"
   ]
  }
 ],
 "metadata": {
  "kernelspec": {
   "display_name": "Python 3.10.13 ('venv': venv)",
   "language": "python",
   "name": "python3"
  },
  "language_info": {
   "codemirror_mode": {
    "name": "ipython",
    "version": 3
   },
   "file_extension": ".py",
   "mimetype": "text/x-python",
   "name": "python",
   "nbconvert_exporter": "python",
   "pygments_lexer": "ipython3",
   "version": "3.10.13"
  },
  "orig_nbformat": 4,
  "vscode": {
   "interpreter": {
    "hash": "0c7c77a678a1a6c36ad4fcdf19bff87b17c0a05fd05660920d3600f697a114eb"
   }
  }
 },
 "nbformat": 4,
 "nbformat_minor": 2
}
