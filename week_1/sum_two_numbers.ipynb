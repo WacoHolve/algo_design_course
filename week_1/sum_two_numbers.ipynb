{
 "cells": [
  {
   "cell_type": "code",
   "execution_count": null,
   "metadata": {},
   "outputs": [],
   "source": [
    "# Uses python3\n",
    "import sys\n",
    "\n",
    "numbers = input = sys.stdin.read()\n",
    "num_list = numbers.split()\n",
    "num_1 = int(num_list[0])\n",
    "num_2 = int(num_list[1])\n",
    "\n",
    "print(num_1 + num_2)"
   ]
  }
 ],
 "metadata": {
  "language_info": {
   "name": "python"
  },
  "orig_nbformat": 4
 },
 "nbformat": 4,
 "nbformat_minor": 2
}
