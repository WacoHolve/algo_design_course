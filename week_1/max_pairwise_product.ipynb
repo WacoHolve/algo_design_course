{
 "cells": [
  {
   "cell_type": "code",
   "execution_count": 1,
   "metadata": {},
   "outputs": [
    {
     "name": "stdout",
     "output_type": "stream",
     "text": [
      "6\n"
     ]
    }
   ],
   "source": [
    "# Uses python3\n",
    "n = int(input())\n",
    "a = [int(x) for x in input().split()]\n",
    "assert(len(a) == n)\n",
    "\n",
    "result = 0\n",
    "highest_val = 0\n",
    "next_highest_val = 0\n",
    "for val in a:\n",
    "    if val > highest_val:\n",
    "        next_highest_val = highest_val\n",
    "        highest_val = val\n",
    "        continue\n",
    "    \n",
    "    if val > next_highest_val:\n",
    "        next_highest_val = val\n",
    "\n",
    "print(highest_val * next_highest_val)"
   ]
  }
 ],
 "metadata": {
  "kernelspec": {
   "display_name": "Python 3.10.13 ('venv': venv)",
   "language": "python",
   "name": "python3"
  },
  "language_info": {
   "codemirror_mode": {
    "name": "ipython",
    "version": 3
   },
   "file_extension": ".py",
   "mimetype": "text/x-python",
   "name": "python",
   "nbconvert_exporter": "python",
   "pygments_lexer": "ipython3",
   "version": "3.10.13"
  },
  "orig_nbformat": 4,
  "vscode": {
   "interpreter": {
    "hash": "0c7c77a678a1a6c36ad4fcdf19bff87b17c0a05fd05660920d3600f697a114eb"
   }
  }
 },
 "nbformat": 4,
 "nbformat_minor": 2
}
